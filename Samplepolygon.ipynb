{
  "nbformat": 4,
  "nbformat_minor": 0,
  "metadata": {
    "colab": {
      "provenance": [],
      "authorship_tag": "ABX9TyMJJsjUJkVwU+v6HINoOdCH",
      "include_colab_link": true
    },
    "kernelspec": {
      "name": "python3",
      "display_name": "Python 3"
    },
    "language_info": {
      "name": "python"
    }
  },
  "cells": [
    {
      "cell_type": "markdown",
      "metadata": {
        "id": "view-in-github",
        "colab_type": "text"
      },
      "source": [
        "<a href=\"https://colab.research.google.com/github/TOKTAK007/Image-Segment/blob/main/Samplepolygon.ipynb\" target=\"_parent\"><img src=\"https://colab.research.google.com/assets/colab-badge.svg\" alt=\"Open In Colab\"/></a>"
      ]
    },
    {
      "cell_type": "code",
      "execution_count": 4,
      "metadata": {
        "colab": {
          "base_uri": "https://localhost:8080/",
          "height": 435
        },
        "id": "hJIMiYK9zNxZ",
        "outputId": "4f171d82-90ae-418f-e8fd-51de0a0e4e39"
      },
      "outputs": [
        {
          "output_type": "display_data",
          "data": {
            "text/plain": [
              "<Figure size 640x480 with 1 Axes>"
            ],
            "image/png": "[encoded data removed]"
          },
          "metadata": {}
        }
      ],
      "source": [
        "import numpy as np\n",
        "import matplotlib.pyplot as plt\n",
        "from matplotlib.patches import Polygon\n",
        "\n",
        "# Create a 32x32 matrix of zeros\n",
        "matrix = np.zeros((512, 512))\n",
        "\n",
        "# Create a Polygon with 4 corners, randomly located within the matrix\n",
        "corners = np.random.randint(0, 32, size=(4, 2))\n",
        "polygon = Polygon(corners, edgecolor='r', facecolor=None)\n",
        "\n",
        "# Calculate the area of the polygon\n",
        "polygon_area = polygon.get_path().vertices[:-1]\n",
        "polygon_area = 0.5*np.abs(np.dot(polygon_area[:, 0], np.roll(polygon_area[:, 1], 1)) - np.dot(polygon_area[:, 1], np.roll(polygon_area[:, 0], 1)))\n",
        "\n",
        "# Loop through each pixel in the matrix and set it to 1 if it is inside the polygon\n",
        "for i in range(32):\n",
        "    for j in range(32):\n",
        "        point = np.array([i, j])\n",
        "        if polygon.contains_point(point):\n",
        "            matrix[i, j] = 1\n",
        "\n",
        "# Plot the matrix with the polygon\n",
        "fig, ax = plt.subplots()\n",
        "ax.imshow(matrix, cmap='gray')\n",
        "rect = plt.Rectangle((0, 0), 32, 32, linewidth=1, edgecolor='r', facecolor='none')\n",
        "ax.add_patch(rect)\n",
        "\n",
        "plt.show()\n"
      ]
    }
  ]
}