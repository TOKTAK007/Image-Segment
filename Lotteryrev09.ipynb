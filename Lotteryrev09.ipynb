{
  "nbformat": 4,
  "nbformat_minor": 0,
  "metadata": {
    "colab": {
      "provenance": [],
      "authorship_tag": "ABX9TyOuw6M8b0mTAy1u6RbaW4Eb",
      "include_colab_link": true
    },
    "kernelspec": {
      "name": "python3",
      "display_name": "Python 3"
    },
    "language_info": {
      "name": "python"
    }
  },
  "cells": [
    {
      "cell_type": "markdown",
      "metadata": {
        "id": "view-in-github",
        "colab_type": "text"
      },
      "source": [
        "<a href=\"https://colab.research.google.com/github/TOKTAK007/Image-Segment/blob/main/Lotteryrev09.ipynb\" target=\"_parent\"><img src=\"https://colab.research.google.com/assets/colab-badge.svg\" alt=\"Open In Colab\"/></a>"
      ]
    },
    {
      "cell_type": "code",
      "execution_count": null,
      "metadata": {
        "id": "aeGPu6L4Nhjt",
        "colab": {
          "base_uri": "https://localhost:8080/"
        },
        "outputId": "7994f492-53fe-4439-f89e-64e6990cef44"
      },
      "outputs": [
        {
          "output_type": "stream",
          "name": "stdout",
          "text": [
            "torch.Size([96, 1])\n"
          ]
        }
      ],
      "source": [
        "import torch\n",
        "import torch.nn as nn\n",
        "import torch.optim as optim\n",
        "import numpy as np\n",
        "import matplotlib.pyplot as plt\n",
        "\n",
        "data = np.array([\n",
        "    812519, 157196, 845093, 375805, 121789, 913106,\n",
        "    613106, 484669, 943703, 929332, 331583, 436594,\n",
        "    620405, 981417, 361807, 319196, 155012, 658642,\n",
        "    395919, 970618, 737867, 61905, 98597, 944308,\n",
        "    880159, 819068, 639235, 77258, 32761, 45037,\n",
        "    386372, 578171, 70935, 114475, 46750, 910261,\n",
        "    556725, 713517, 691861, 292972, 684579, 501272,\n",
        "    100787, 472270, 890422, 835538, 424603, 912307,\n",
        "    38495, 803628, 201303, 100994, 972661, 506404,\n",
        "    286051, 837893, 244083, 999997, 945811, 569391,\n",
        "    873286, 347258, 516967, 831567, 51095, 503446,\n",
        "    875938, 781403, 589227, 491774, 510541, 529924,\n",
        "    453522, 17223, 967375, 812564, 691197, 340388,\n",
        "    798787, 775476, 387006, 369765, 943647, 174055,\n",
        "    516461, 962526, 61324, 570331, 109767, 724628,\n",
        "    345650, 74824, 967134, 197079, 735867, 356564\n",
        "])\n",
        "\n",
        "# แปลงข้อมูล numpy เป็น tensor ของ PyTorch\n",
        "data = torch.tensor(data, dtype=torch.float32).view(-1, 1)\n",
        "print(data.shape)\n",
        "\n",
        "# กำหนดพารามิเตอร์\n",
        "hidden_size = 100\n",
        "num_layers = 2\n",
        "lr = 0.01\n",
        "epochs = 1000\n",
        "batch_size = 96\n",
        "input_size = 1\n",
        "output_size = 1\n",
        "\n",
        "device = torch.device(\"cuda\" if torch.cuda.is_available() else \"cpu\")\n",
        "\n",
        "# สร้างโมเดล LSTM\n",
        "import torch.nn as nn\n",
        "\n",
        "class LSTM(nn.Module):\n",
        "    def __init__(self, input_size, hidden_size, output_size, num_layers):\n",
        "        super(LSTM, self).__init__()\n",
        "        self.input_size = input_size\n",
        "        self.hidden_size = hidden_size\n",
        "        self.num_layers = num_layers\n",
        "        self.lstm = nn.LSTM(input_size=input_size, hidden_size=hidden_size, \n",
        "                            num_layers=num_layers, batch_first=True)\n",
        "        self.fc = nn.Linear(hidden_size, output_size)\n",
        "    \n",
        "    def forward(self, x):\n",
        "        # สร้าง initial hidden state และ cell state\n",
        "        h0 = torch.zeros(self.num_layers, x.size(0), self.hidden_size).to(device)\n",
        "        c0 = torch.zeros(self.num_layers, x.size(0), self.hidden_size).to(device)\n",
        "\n",
        "        # ผ่าน LSTM layer\n",
        "        out, _ = self.lstm(x, (h0, c0))\n",
        "        \n",
        "        # ผ่าน fully connected layer\n",
        "        out = self.fc(out[-1])\n",
        "        \n",
        "        return out\n",
        "\n",
        "# สร้างโมเดล\n",
        "model = LSTM(input_size, hidden_size, output_size, num_layers)\n",
        "\n",
        "# กำหนดฟังก์ชัน loss และ optimizer\n",
        "criterion = nn.MSELoss()\n",
        "optimizer = torch.optim.Adam(model.parameters(), lr=lr)\n"
      ]
    },
    {
      "cell_type": "markdown",
      "source": [
        "\n",
        "\n",
        "---\n",
        "ใช่ครับ ฟังก์ชัน size() ใน PyTorch จะ return ขนาดของ tensor ในแต่ละ dimension โดยตัวเลขที่ได้จะแทนจำนวน elements ใน dimension นั้น ๆ ซึ่งสำหรับ tensor แบบ (batch_size, sequence_length, input_size) นั้น ขนาดของ dimension แรก คือ batch_size ดังนั้น x.size(0) จึงจะเป็น batch_size นั่นเองครับ\n",
        "\n",
        "\n",
        "---\n",
        "\n"
      ],
      "metadata": {
        "id": "Z53TRrqYZTmE"
      }
    },
    {
      "cell_type": "markdown",
      "source": [
        "\n",
        "\n",
        "---\n",
        "การใช้ view() ในส่วนของโค้ดนี้ เป็นการเปลี่ยนรูปแบบของ Tensor โดยที่ไม่ได้เปลี่ยนค่าของ Tensor นั้น ๆ แต่เพียงแค่เปลี่ยนวิธีการอ่านข้อมูลใน Tensor นั้นใหม่\n",
        "\n",
        "\n",
        "---\n",
        "\n",
        "\n",
        "\n",
        "โดย x.view(-1, 1, input_size) จะทำการแปลง x จากขนาด (batch_size, sequence_length, input_size) เป็นขนาด (batch_size*sequence_length, 1, input_size) โดยที่ 1 คือจำนวนช่องทาง (channel) ใน Convolutional Neural Network (CNN) ซึ่งใน LSTM นั้นไม่ได้ใช้เรื่องช่องทาง เราจึงใช้ 1 แทน\n",
        "\n",
        "\n",
        "---\n",
        "\n",
        "\n",
        "\n",
        "โดย -1 ใน view() คือการกำหนดให้ PyTorch คำนวณจำนวนแถวอัตโนมัติโดยคำนวณจากขนาดของ Tensor ต้นฉบับและขนาดที่ระบุอื่น ๆ ใน view() อีกสองตัว ในกรณีนี้จะเป็น batch_size * sequence_length ดังนั้น, ค่าในที่นี้คือ (20, 5) จะถูกแปลงเป็น (100, 1, 5) ซึ่งเป็นขนาดที่เหมาะสมสำหรับ LSTM กับข้อมูลนี้ที่มี sequence_length เป็น 1\n",
        "\n",
        "\n",
        "---\n",
        "\n",
        "\n"
      ],
      "metadata": {
        "id": "ITNw1pe6Ypfw"
      }
    },
    {
      "cell_type": "markdown",
      "source": [
        "\n",
        "\n",
        "---\n",
        "_pred, _ = model(data.view(len(data), 1, -1), hidden) เป็นการใช้โมเดล LSTM ใน PyTorch ที่ train ไว้แล้วเพื่อทำนาย output โดยรับ input จากตัวแปร data ซึ่งเป็น tensor ของ PyTorch \n",
        "\n",
        "\n",
        "---\n",
        "\n",
        "\n",
        "\n",
        "โดยมีรูปแบบเป็น sequence และ hidden จากครั้งที่แล้ว โดย y_pred จะเป็น tensor ของ PyTorch ที่เก็บผลลัพธ์ output ที่ทำนายได้จากโมเดล LSTM สำหรับแต่ละ time step ซึ่งก็คือการทำนายผลลัพธ์ของแต่ละข้อมูลในตัวแปร data โดยมีรูปแบบเป็น tensor ของ PyTorch ขนาดเท่ากับ (sequence_length, batch_size, output_size) \n",
        "\n",
        "\n",
        "---\n",
        "\n",
        "\n",
        "\n",
        "ซึ่งในที่นี้ output_size = 12 ตามที่กำหนดไว้ในตัวแปร output_size และ _ จะเป็น hidden state จากครั้งที่แล้วที่ไม่ได้ใช้งานในการ predict แต่ใช้ในการเก็บ hidden state ของโมเดล LSTM สำหรับ input ถัดไป\n",
        "\n",
        "\n",
        "---\n",
        "\n",
        "\n"
      ],
      "metadata": {
        "id": "GbfNvKqfWNgE"
      }
    },
    {
      "cell_type": "markdown",
      "source": [
        "\n",
        "\n",
        "---\n",
        "\n",
        "\n",
        "โดย x จะเท่ากับตัวเลข 48 ตัวสุดท้าย\n",
        "และ y เท่ากับตัวเลข 48 ตัวแรกของ data\n",
        "\n",
        "-1 คือ ตัวเลขสุดท้าย ไล่มาถึงตัวที่ -90\n",
        "\n",
        "\n",
        "---\n",
        "\n"
      ],
      "metadata": {
        "id": "alPm3u2Rer5o"
      }
    },
    {
      "cell_type": "code",
      "source": [
        "x = data[-48:]\n",
        "y = data[:48]\n"
      ],
      "metadata": {
        "id": "DleyHQxm_uUl"
      },
      "execution_count": null,
      "outputs": []
    },
    {
      "cell_type": "code",
      "source": [
        "print(x.shape, y.shape)"
      ],
      "metadata": {
        "colab": {
          "base_uri": "https://localhost:8080/"
        },
        "id": "qhkzjNPh9ktv",
        "outputId": "c2175480-2fb7-4c55-a578-89c59411bf82"
      },
      "execution_count": null,
      "outputs": [
        {
          "output_type": "stream",
          "name": "stdout",
          "text": [
            "torch.Size([48, 1]) torch.Size([48, 1])\n"
          ]
        }
      ]
    },
    {
      "cell_type": "markdown",
      "source": [
        "\n",
        "\n",
        "---\n",
        "\n",
        "10:11 ใน Python หมายถึง slice ของลำดับข้อมูล (sequence) ที่เริ่มต้นที่ index 10 และสิ้นสุดที่ index 11 (ไม่รวม index 11) \n",
        "\n",
        "\n",
        "---\n",
        "\n",
        "\n",
        "ดังนั้น slice นี้จะประกอบด้วยข้อมูลตัวเดียวที่อยู่ในลำดับที่ 10 ของ sequence นั้น ๆ ซึ่งในที่นี้ก็คือ data[10] ดังนั้นถ้าเราเขียน y = data[10:11] ก็จะได้ค่า y เท่ากับ list ที่มีสมาชิกเป็นค่าตัวเดียวคือ data[10]\n",
        "\n",
        "\n",
        "---\n",
        "\n"
      ],
      "metadata": {
        "id": "6LsryjQQj-2C"
      }
    },
    {
      "cell_type": "code",
      "source": [
        "from sklearn.model_selection import train_test_split\n",
        "\n",
        "# Split into train (70%) and validation+test (30%)\n",
        "X_train, X_valtest, y_train, y_valtest = train_test_split(x, y, test_size=0.3, random_state=42)\n",
        "\n",
        "# Split validation+test into validation (50%) and test (50%)\n",
        "X_val, X_test, y_val, y_test = train_test_split(X_valtest, y_valtest, test_size=0.5, random_state=42)\n",
        "\n",
        "print(\"Training set size:\", len(X_train))\n",
        "print(\"Validation set size:\", len(X_val))\n",
        "print(\"Test set size:\", len(X_test))\n"
      ],
      "metadata": {
        "colab": {
          "base_uri": "https://localhost:8080/"
        },
        "id": "Z1X7L32X0-Xa",
        "outputId": "d6842a12-7d00-496c-ce58-93beba19fad5"
      },
      "execution_count": null,
      "outputs": [
        {
          "output_type": "stream",
          "name": "stdout",
          "text": [
            "Training set size: 33\n",
            "Validation set size: 7\n",
            "Test set size: 8\n"
          ]
        }
      ]
    },
    {
      "cell_type": "code",
      "source": [
        "print(X_train[:5])"
      ],
      "metadata": {
        "colab": {
          "base_uri": "https://localhost:8080/"
        },
        "id": "vci3w3VPpME2",
        "outputId": "88425e45-0466-4dbe-8e51-e9879332eaeb"
      },
      "execution_count": null,
      "outputs": [
        {
          "output_type": "stream",
          "name": "stdout",
          "text": [
            "tensor([[347258.],\n",
            "        [503446.],\n",
            "        [197079.],\n",
            "        [831567.],\n",
            "        [999997.]])\n"
          ]
        }
      ]
    },
    {
      "cell_type": "markdown",
      "source": [
        "\n",
        "\n",
        "---\n",
        "\n",
        "\n",
        "5 elements โดยแต่ละ element เป็น tensor ขนาด 6x1 ที่ประกอบไปด้วยตัวเลข 6 ตัวในแต่ละตัวแปร ซึ่งแต่ละตัวแปรเป็นตัวเลขที่มีค่าอยู่ในช่วงที่กำหนดโดยข้อมูลดังกล่าว\n",
        "\n",
        "---\n",
        "\n"
      ],
      "metadata": {
        "id": "DUUQZt7HqGUi"
      }
    },
    {
      "cell_type": "code",
      "source": [
        "X_train_to_tensor = [t.clone().detach() for t in X_train] #ให้มีค่าเท่ากันในแต่ละ element เพราะ มีค่าไม่เท่่ากัน\n",
        "X_train_ready = torch.cat(X_train_to_tensor, dim=0)"
      ],
      "metadata": {
        "id": "hWZjKIn1rUrm"
      },
      "execution_count": null,
      "outputs": []
    },
    {
      "cell_type": "code",
      "source": [
        "y_train_to_tensor = [t.clone().detach() for t in y_train]\n",
        "y_train_ready = torch.cat(y_train_to_tensor, dim=0)"
      ],
      "metadata": {
        "id": "JyXJtvPOt8IM"
      },
      "execution_count": null,
      "outputs": []
    },
    {
      "cell_type": "code",
      "source": [
        "X_val_tensor = [t.clone().detach() for t in X_val]\n",
        "X_val_ready = torch.cat(X_val_tensor, dim=0)"
      ],
      "metadata": {
        "id": "KN6MvIzg5sv4"
      },
      "execution_count": null,
      "outputs": []
    },
    {
      "cell_type": "code",
      "source": [
        "y_val_tensor = [t.clone().detach() for t in y_val]\n",
        "y_val_ready = torch.cat(y_val_tensor, dim=0)"
      ],
      "metadata": {
        "id": "iXP2MTow6qNG"
      },
      "execution_count": null,
      "outputs": []
    },
    {
      "cell_type": "code",
      "source": [
        "X_test_tensor = [t.clone().detach() for t in X_test]\n",
        "X_test_ready = torch.cat(X_test_tensor, dim=0)"
      ],
      "metadata": {
        "id": "qa467J5X6_WF"
      },
      "execution_count": null,
      "outputs": []
    },
    {
      "cell_type": "code",
      "source": [
        "y_test_tensor = [t.clone().detach() for t in y_test]\n",
        "y_test_ready = torch.cat(y_test_tensor, dim=0)"
      ],
      "metadata": {
        "id": "53Rl-_H_7WYe"
      },
      "execution_count": null,
      "outputs": []
    },
    {
      "cell_type": "markdown",
      "source": [
        "\n",
        "\n",
        "---\n",
        "มันไม่สามารถแปลงได้เพราะว่า list ของ tensor ที่ให้มามีขนาดไม่เท่ากัน ซึ่งในการแปลง list เป็น tensor จะต้องมีขนาดเท่ากันทุกตัว ดังนั้นเมื่อเราลองใช้ torch.tensor ในการแปลง list ดังกล่าว จะเกิด error ขึ้นว่า \"ValueError: expected sequence of length 6 at dim 1 (got 1)\" เนื่องจากจำนวน element ในแต่ละ tensor ของ list ไม่เท่ากัน\n",
        "\n",
        "\n",
        "\n",
        "---\n",
        "\n",
        "\n"
      ],
      "metadata": {
        "id": "Qxr-tmx4rlwO"
      }
    },
    {
      "cell_type": "markdown",
      "source": [
        "\n",
        "\n",
        "---\n",
        "น PyTorch การใช้ torch.cat เป็นการนำ tensor หลายๆ ชิ้นมาต่อกันในแนวทแยง (concatenation) โดยเราสามารถระบุแกน (dimension) ที่จะใช้ต่อได้ด้วย dim argument\n",
        "\n",
        "\n",
        "\n",
        "---\n",
        "\n",
        "\n",
        "ดังนั้น dim=1 ใน torch.cat(my_list_of_tensors, dim=1) หมายถึง การต่อข้อมูล (concatenate) ในแนวแกนที่ 1 ของ tensor ทุกๆตัวใน my_list_of_tensors โดยที่แนวแกนที่ 1 คือแนวแกนที่แนวตั้ง (vertical) ของ tensor หรือแกน column ในกรณีที่เรามอง tensor เป็นตาราง \n",
        "\n",
        "\n",
        "---\n",
        "\n",
        "\n",
        "ดังนั้นจะได้ tensor ใหม่ที่มีขนาดเป็น (num_rows, total_num_columns) โดยที่ num_rows เป็นจำนวนแถวของ tensor แต่ละตัวใน my_list_of_tensors และ total_num_columns เป็นผลรวมของจำนวน column ของ tensor ทุกตัวใน my_list_of_tensors\n",
        "\n",
        "\n",
        "---\n",
        "\n",
        "\n"
      ],
      "metadata": {
        "id": "2gJ_dRT_sXN3"
      }
    },
    {
      "cell_type": "code",
      "source": [
        "print(X_train_ready.shape)"
      ],
      "metadata": {
        "colab": {
          "base_uri": "https://localhost:8080/"
        },
        "id": "C2SF4RLG8Tqn",
        "outputId": "c63a6273-a334-4ff0-b96c-6143414d1ec7"
      },
      "execution_count": null,
      "outputs": [
        {
          "output_type": "stream",
          "name": "stdout",
          "text": [
            "torch.Size([33])\n"
          ]
        }
      ]
    },
    {
      "cell_type": "code",
      "source": [
        "print(y_train_ready.shape)"
      ],
      "metadata": {
        "colab": {
          "base_uri": "https://localhost:8080/"
        },
        "id": "_NJF1My-8dM9",
        "outputId": "8be0c1dd-025b-45db-c68a-8b6c3260cac7"
      },
      "execution_count": null,
      "outputs": [
        {
          "output_type": "stream",
          "name": "stdout",
          "text": [
            "torch.Size([33])\n"
          ]
        }
      ]
    },
    {
      "cell_type": "code",
      "source": [
        "import torch\n",
        "from torch.utils.data import TensorDataset, DataLoader\n",
        "\n",
        "# สร้าง Dataset สำหรับ train, validation และ test\n",
        "train_dataset = TensorDataset(X_train_ready, y_train_ready)     #convert to tensor for transform to dataset form \n",
        "val_dataset = TensorDataset(X_val_ready, y_val_ready)\n",
        "test_dataset = TensorDataset(X_test_ready, y_test_ready)\n",
        "\n",
        "# กำหนด batch size สำหรับ DataLoader\n",
        "# batch_size = 48\n",
        "\n",
        "# สร้าง DataLoader สำหรับ train, validation และ test\n",
        "train_loader = DataLoader(train_dataset, batch_size=batch_size, shuffle=True)\n",
        "val_loader = DataLoader(val_dataset, batch_size=batch_size, shuffle=False)\n",
        "test_loader = DataLoader(test_dataset, batch_size=batch_size, shuffle=False)\n"
      ],
      "metadata": {
        "id": "8VKXl1l5XNTD"
      },
      "execution_count": null,
      "outputs": []
    },
    {
      "cell_type": "markdown",
      "source": [
        "\n",
        "\n",
        "---\n",
        "Dataloader และ Dataset เป็นสององค์ประกอบสำคัญในการสร้างโมเดลการเรียนรู้เชิงลึกใน PyTorch โดยมีบทบาทแตกต่างกันดังนี้\n",
        "\n",
        "\n",
        "---\n",
        "\n",
        "\n",
        "\n",
        "Dataset: เป็นคลาสที่ใช้สำหรับเก็บข้อมูลตัวอย่างและเป็นส่วนสำคัญในการสร้าง dataloader ใน PyTorch โดย Dataset จะถูกสร้างขึ้นมาเพื่อเตรียมข้อมูลสำหรับการใช้งานในโมเดล ซึ่งจะมีฟังก์ชันสำหรับการดึงข้อมูลออกมาเพื่อนำไปใช้ในการเทรนโมเดล\n",
        "\n",
        "\n",
        "---\n",
        "\n",
        "\n",
        "\n",
        "Dataloader: เป็นอีกคลาสหนึ่งที่ใช้สำหรับการเตรียมข้อมูลเพื่อนำเข้าไปใช้ในโมเดล โดย Dataloader จะทำหน้าที่จัดการการสุ่มข้อมูลสำหรับการเทรนโมเดล และสร้าง batch ของข้อมูลเพื่อนำไปใช้ในการเรียนรู้ของโมเดล นอกจากนี้ Dataloader ยังสามารถทำงานแบบ parallel ได้เพื่อเพิ่มประสิทธิภาพในการโหลดข้อมูล\n",
        "\n",
        "\n",
        "---\n",
        "\n",
        "\n",
        "\n",
        "ดังนั้น Dataset และ Dataloader เป็นส่วนสำคัญที่ใช้ร่วมกันในการสร้างโมเดลการเรียนรู้เชิงลึกใน PyTorch โดย Dataset จะเป็นส่วนที่ใช้เก็บข้อมูลตัวอย่างและมีฟังก์ชันสำหรับการดึงข้อมูลออกมาใช้ในการเทรน ในขณะเดียวกัน Dataloader จะใช้สำหรับการจัดการการสุ่มข้อมูลและสร้าง batch ของข้อมูลเพื่อนำไปใช้ในการเรียนรู้ของโมเดล และยังสามารถทำงานแบบ parallel ได้เพื่อเพิ่มประสิทธิภาพ\n",
        "\n",
        "\n",
        "---\n",
        "\n",
        "\n"
      ],
      "metadata": {
        "id": "Ik5AZ-CN3jTy"
      }
    },
    {
      "cell_type": "code",
      "source": [
        "# # train the model and record loss and accuracy for each epoch\n",
        "train_loss = []\n",
        "train_acc = []\n",
        "val_loss = []\n",
        "val_acc = []\n",
        "\n",
        "\n",
        "for epoch in range(epochs):\n",
        "      running_loss = 0.0\n",
        "      running_corrects = 0.0\n",
        "      steps = 0\n",
        "      for x, y in train_loader:\n",
        "        x, y = x.to(device), y.to(device)\n",
        "        optimizer.zero_grad()\n",
        "        x = x.view(-1, 1, input_size)\n",
        "        y_pred = model(x)\n",
        "        y = y.view(-1, 1)  # เพิ่มบรรทัดนี้\n",
        "        loss = criterion(y_pred, y)\n",
        "        loss.backward()\n",
        "        optimizer.step()\n",
        "        _, preds = torch.max(y_pred, 0)\n",
        "        running_loss += loss.item() * x.size(0)\n",
        "        running_corrects += torch.sum(preds == y.data)\n",
        "        steps += 1\n",
        "   \n",
        "train_loss.append(running_loss / len(train_loader.dataset))\n",
        "train_acc.append(running_corrects.double() / len(train_loader.dataset))"
      ],
      "metadata": {
        "id": "i-npL6D84JNv",
        "outputId": "107636db-3b29-4381-a5cf-650c16631ded",
        "colab": {
          "base_uri": "https://localhost:8080/"
        }
      },
      "execution_count": null,
      "outputs": [
        {
          "output_type": "stream",
          "name": "stderr",
          "text": [
            "/usr/local/lib/python3.9/dist-packages/torch/nn/modules/loss.py:536: UserWarning: Using a target size (torch.Size([33, 1])) that is different to the input size (torch.Size([1, 1])). This will likely lead to incorrect results due to broadcasting. Please ensure they have the same size.\n",
            "  return F.mse_loss(input, target, reduction=self.reduction)\n"
          ]
        }
      ]
    },
    {
      "cell_type": "markdown",
      "source": [
        "\n",
        "\n",
        "---\n",
        "ปัญหาก็เป็นเพราะขนาดของ tensor y ไม่ตรงกับขนาดของ tensor y_pred ที่ได้จากโมเดล ตาม error message ที่แจ้งมาว่า The size of tensor a (5) must match the size of tensor b (20) at non-singleton dimension 0 ซึ่งหมายความว่า tensor y_pred มีขนาดเป็น (20, 5) ในขณะที่ tensor y มีขนาดเป็น (5,) ซึ่งทำให้ไม่สามารถนำไปคำนวณ loss ได้\n",
        "\n",
        "\n",
        "---\n",
        "\n",
        "\n",
        "\n",
        "การแก้ไขปัญหานี้คือให้ตรวจสอบขนาดของ tensor y ว่าเป็น (20,) หรือ (20, 1) หรือไม่ และแก้ไขขนาดของ tensor y เพื่อให้ตรงกับขนาดของ tensor y_pred ดังนี้\n",
        "\n",
        "\n",
        "---\n",
        "\n"
      ],
      "metadata": {
        "id": "Ln6NtNt3dNSM"
      }
    },
    {
      "cell_type": "markdown",
      "source": [
        "\n",
        "\n",
        "---\n",
        "\n",
        "\n",
        "torch.max(y_pred, 1) จะคืนค่าสอง outputs คือ max_values และ max_indices โดย max_values คือ tensor ที่มีค่าเท่ากับค่ามากที่สุดในแต่ละ row ของ y_pred และ max_indices คือ tensor ที่มี index ของค่ามากที่สุดในแต่ละ row ของ y_pred นั่นเอง\n",
        "\n",
        "ดังนั้น _, preds = torch.max(y_pred, 1) จึงหมายความว่าไม่สนใจ max_values แต่เก็บแค่ max_indices ในตัวแปร preds ซึ่งก็คือ index ของค่าที่มากที่สุดในแต่ละ row ของ y_pred นั่นเอง\n",
        "\n",
        "\n",
        "---\n",
        "train_acc.append(running_corrects.double() / len(train_loader.dataset)) คือการคำนวณค่า accuracy ของโมเดลในแต่ละ epoch แล้วเก็บค่า accuracy นั้นไว้ใน list train_acc ซึ่งจะถูกใช้งานในการ visualize learning curve หรือประเมินประสิทธิภาพของโมเดลในภายหลัง\n",
        "\n",
        "\n",
        "---\n",
        "\n",
        "\n",
        "\n",
        "สูตรการคำนวณ accuracy คือ (จำนวนตัวอย่างที่ทำนายถูกต้อง) / (จำนวนตัวอย่างทั้งหมด) โดยในที่นี้ running_corrects คือจำนวนตัวอย่างที่โมเดลทำนายถูกต้องในแต่ละ epoch และ len(train_loader.dataset) คือจำนวนตัวอย่างทั้งหมดในชุดข้อมูล train นั่นเอง\n",
        "\n",
        "\n",
        "---\n",
        "double เป็นชนิดข้อมูลที่ใช้เก็บตัวเลขที่มีทศนิยมแบบคู่ โดยมีความยาว 64 บิต (64-bit) ซึ่งเป็นชนิดข้อมูลที่มีความแม่นยำสูงกว่า float (32-bit) และสามารถจัดเก็บตัวเลขที่มีค่ามากกว่า float ได้ โดย double\n",
        "\n",
        "\n",
        "---\n",
        "\n",
        "\n",
        "\n",
        "มักจะใช้ในการคำนวณทางวิทยาศาสตร์และเทคโนโลยีต่างๆ เช่น การคำนวณทางคณิตศาสตร์ เครื่องจักรอิเล็กทรอนิกส์ หรือการประมวลผลภาพ และวิดีโอ เป็นต้น การใช้ double จะช่วยลดความเสียหายจากการปัดเศษลงในการคำนวณ และสามารถให้ความแม่นยำสูงขึ้น ซึ่งเป็นสิ่งที่ต้องการในการคำนวณ accuracy ของโมเดลในการเทรนและวัดประสิทธิภาพของโมเดล\n",
        "\n",
        "\n",
        "---\n",
        "\n",
        "\n",
        "\n"
      ],
      "metadata": {
        "id": "WDo2whSu6okT"
      }
    },
    {
      "cell_type": "markdown",
      "source": [
        "\n",
        "\n",
        "---\n",
        "\n",
        "\n",
        "net.eval() เป็น method ของ PyTorch ที่ใช้สำหรับเปลี่ยนโหมดการทำงานของโมเดลจากโหมด train เป็นโหมด evaluation ซึ่งมีผลต่อการประมวลผลและการคำนวณของโมเดล โดยโหมด train จะเป็นโหมดสำหรับการฝึกโมเดลโดยจะมีการเรียกใช้ฟังก์ชัน Dropout ซึ่งจะทำให้โมเดลมีการทำงานแบบสุ่มขึ้น \n",
        "\n",
        "\n",
        "---\n",
        "\n",
        "\n",
        "ในขณะที่โหมด evaluation จะเป็นโหมดสำหรับการใช้โมเดลจริงๆ โดยไม่มีการใช้ Dropout หรือการทำงานแบบสุ่มอื่นๆ ซึ่งจะช่วยให้ผลลัพธ์ที่ได้มีความเสถียรและสามารถนำไปใช้งานได้จริง\n",
        "\n",
        "\n",
        "---\n",
        "\n",
        "\n",
        "\n",
        "ดังนั้นการเรียกใช้ net.eval() จะเป็นการเปลี่ยนโหมดการทำงานของโมเดลจากโหมด train เป็นโหมด evaluation เพื่อใช้สำหรับการทำนายหรือใช้งานจริง โดยจะเรียกใช้เมื่อเราต้องการใช้โมเดลสำหรับการทำนายหรือใช้งานจริง \n",
        "\n",
        "\n",
        "---\n",
        "\n",
        "\n",
        "\n",
        "หลังจากเราได้ฝึกโมเดลเสร็จเรียบร้อยแล้ว โดยปกติแล้วจะถูกเรียกใช้หลังจากเราเรียกใช้ฟังก์ชัน torch.no_grad() เพื่อปิดการคำนวณของ Gradient ที่ไม่จำเป็นในการทำนายหรือใช้งานจริง ทำให้การทำงานของโมเดลเร็วขึ้นและประหยัดทรัพยากรของเครื่องเมื่อเทียบกับการใช้โหมด train\n",
        "\n",
        "\n",
        "---\n",
        "\n"
      ],
      "metadata": {
        "id": "D2rRqOSF7y1P"
      }
    },
    {
      "cell_type": "markdown",
      "source": [
        "\n",
        "\n",
        "---\n",
        "\n",
        "\n",
        "epoch+1 คือเลข epoch ที่เรากำลัง train ในขณะนั้น\n",
        "train_loss[-1] และ train_acc[-1] คือค่า loss และค่า accuracy ของชุดข้อมูล train ใน epoch สุดท้ายที่เราทำการ train\n",
        "\n",
        "\n",
        "---\n",
        "\n",
        "\n",
        "val_loss[-1] และ val_acc[-1] คือค่า loss และค่า accuracy ของชุดข้อมูล validation ใน epoch สุดท้ายที่เราทำการ train"
      ],
      "metadata": {
        "id": "oS4730_o8l6F"
      }
    },
    {
      "cell_type": "code",
      "source": [
        "model.eval()\n",
        "val_running_loss = 0.0\n",
        "val_running_corrects = 0.0\n",
        "for x, y in val_loader:\n",
        "        x, y = x.to(device), y.to(device)\n",
        "        x = x.view(-1, 1, input_size)\n",
        "        y_pred = model(x)\n",
        "        y = y.view(-1, 1)  # เพิ่มบรรทัดนี้\n",
        "        loss = criterion(y_pred, y)\n",
        "        _, preds = torch.max(y_pred, 0)\n",
        "        val_running_loss += loss.item() * x.size(0)\n",
        "        val_running_corrects += torch.sum(preds == y.data)\n",
        "   \n",
        "val_loss.append(val_running_loss / len(val_loader.dataset))\n",
        "val_acc.append(val_running_corrects.double() / len(val_loader.dataset))\n",
        "   \n",
        "print(f'Epoch {epoch+1}: Train Loss: {train_loss[-1]:.4f}, Train Acc: {train_acc[-1]:.4f}, Val Loss: {val_loss[-1]:.4f}, Val Acc: {val_acc[-1]:.4f}')\n",
        "\n",
        "# plot the training and validation accuracies over time\n",
        "plt.plot(train_acc, 'b-', label='Train Acc')  #'b-' คือการกำหนดสีและลักษณะของเส้นกราฟ ในที่นี้คือเส้นสีน้ำเงินแบบสามเหลี่ยม\n",
        "plt.plot(val_acc, 'r-', label='Val Acc')\n",
        "plt.xlabel('Epochs')\n",
        "plt.ylabel('Accuracy')\n",
        "plt.legend()\n",
        "plt.show()"
      ],
      "metadata": {
        "colab": {
          "base_uri": "https://localhost:8080/",
          "height": 521
        },
        "id": "WRDmmUpWf-_2",
        "outputId": "0585e744-22e7-484f-e08f-111e370af56b"
      },
      "execution_count": null,
      "outputs": [
        {
          "output_type": "stream",
          "name": "stderr",
          "text": [
            "/usr/local/lib/python3.9/dist-packages/torch/nn/modules/loss.py:536: UserWarning: Using a target size (torch.Size([7, 1])) that is different to the input size (torch.Size([1, 1])). This will likely lead to incorrect results due to broadcasting. Please ensure they have the same size.\n",
            "  return F.mse_loss(input, target, reduction=self.reduction)\n"
          ]
        },
        {
          "output_type": "stream",
          "name": "stdout",
          "text": [
            "Epoch 1000: Train Loss: 355819716608.0000, Train Acc: 0.0000, Val Loss: 513856077824.0000, Val Acc: 0.0000\n"
          ]
        },
        {
          "output_type": "display_data",
          "data": {
            "text/plain": [
              "<Figure size 640x480 with 1 Axes>"
            ],
            "image/png": "[encoded data removed]"
          },
          "metadata": {}
        }
      ]
    }
  ]
}