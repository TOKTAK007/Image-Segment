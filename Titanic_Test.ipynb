{
  "nbformat": 4,
  "nbformat_minor": 0,
  "metadata": {
    "colab": {
      "provenance": [],
      "authorship_tag": "ABX9TyNhlGfzqJraB7cGqg7PRCV/",
      "include_colab_link": true
    },
    "kernelspec": {
      "name": "python3",
      "display_name": "Python 3"
    },
    "language_info": {
      "name": "python"
    }
  },
  "cells": [
    {
      "cell_type": "markdown",
      "metadata": {
        "id": "view-in-github",
        "colab_type": "text"
      },
      "source": [
        "<a href=\"https://colab.research.google.com/github/TOKTAK007/Image-Segment/blob/main/Titanic_Test.ipynb\" target=\"_parent\"><img src=\"https://colab.research.google.com/assets/colab-badge.svg\" alt=\"Open In Colab\"/></a>"
      ]
    },
    {
      "cell_type": "code",
      "execution_count": 3,
      "metadata": {
        "id": "u5EZYfhu2vHv"
      },
      "outputs": [],
      "source": [
        "import numpy as np # linear algebra\n",
        "import pandas as pd # data processing, CSV file I/O (e.g. pd.read_csv)\n"
      ]
    },
    {
      "cell_type": "code",
      "source": [
        "from google.colab import drive\n",
        "drive.mount('/content/drive')"
      ],
      "metadata": {
        "id": "ppKGs48b3e3i",
        "colab": {
          "base_uri": "https://localhost:8080/"
        },
        "outputId": "fbe4fd4c-fa01-4e3d-8802-781fb69d1085"
      },
      "execution_count": 4,
      "outputs": [
        {
          "output_type": "stream",
          "name": "stdout",
          "text": [
            "Mounted at /content/drive\n"
          ]
        }
      ]
    },
    {
      "cell_type": "code",
      "source": [
        "import os\n",
        "for dirname, _, filenames in os.walk('/content/drive/MyDrive/Colab Notebooks/Data set/'):\n",
        "    for filename in filenames:\n",
        "        print(os.path.join(dirname, filename))\n"
      ],
      "metadata": {
        "id": "J_juW-QT27Og",
        "colab": {
          "base_uri": "https://localhost:8080/"
        },
        "outputId": "66c87abb-e560-494b-d957-76bc4cf02b5e"
      },
      "execution_count": 5,
      "outputs": [
        {
          "output_type": "stream",
          "name": "stdout",
          "text": [
            "/content/drive/MyDrive/Colab Notebooks/Data set/train.csv\n",
            "/content/drive/MyDrive/Colab Notebooks/Data set/test.csv\n",
            "/content/drive/MyDrive/Colab Notebooks/Data set/gender_submission.csv\n"
          ]
        }
      ]
    },
    {
      "cell_type": "markdown",
      "source": [
        "\"OS\" ย่อมาจาก \"Operating System\" หรือภาษาไทยเรียกว่า \"ระบบปฏิบัติการ\" ซึ่งเป็นซอฟต์แวร์ที่ควบคุมการทำงานของคอมพิวเตอร์ และให้บริการต่างๆ ให้กับแอปพลิเคชันและผู้ใช้งาน เช่น การจัดการหน่วยความจำ การเข้าถึงไฟล์ การเชื่อมต่อกับอินเตอร์เน็ต การจัดการฮาร์ดแวร์ เป็นต้น ระบบปฏิบัติการที่ได้รับความนิยมอย่างแพร่หลายปัจจุบันได้แก่ Windows, MacOS, และ Linux.\n",
        "\n",
        "====================================================\n",
        "\n",
        "\n"
      ],
      "metadata": {
        "id": "nO8AGAgu3Wtm"
      }
    },
    {
      "cell_type": "markdown",
      "source": [
        "ใน Python, os.walk() เป็นฟังก์ชั่นที่ใช้สำหรับการวนลูปของไดเรกทอรี (directory) และไฟล์ภายใต้ไดเรกทอรีนั้นๆ โดยมีพารามิเตอร์หนึ่งเป็น path หรือที่อยู่ของไดเรกทอรีเริ่มต้นที่ต้องการทำการวนลูป ในตัวอย่างของโค้ดที่ให้มา จะใช้ os.walk() เพื่อวนลูปในไดเรกทอรี /kaggle/input โดยจะมีการคืนค่าเป็น tuple ที่ประกอบด้วย 3 ตัวแปรคือ dirname ซึ่งจะเป็นชื่อของไดเรกทอรีที่ถูกวนลูป ตัวแปร _ ที่ไม่ได้ใช้งาน (เนื่องจากไม่ได้ใช้และใช้ underscore แทน) และ filenames ซึ่งจะเป็น list ของชื่อไฟล์ทั้งหมดในไดเรกทอรีนั้นๆ\n",
        "\n",
        "===================================="
      ],
      "metadata": {
        "id": "rNIAczRB6HYa"
      }
    },
    {
      "cell_type": "markdown",
      "source": [
        "dirname ใน Python เป็นตัวแปรที่ใช้เก็บชื่อไดเรกทอรี (directory) ที่กำลังถูกวนลูปอยู่ใน os.walk() ซึ่งจะมีค่าเป็นสตริง (string) ที่เก็บที่อยู่ของไดเรกทอรี โดยตัวแปรนี้จะถูกส่งเข้าไปเป็น parameter ในฟังก์ชั่น os.path.join() เพื่อรวมกับชื่อไฟล์ (filename) เพื่อให้ได้ path เต็มของไฟล์นั้นๆ ในการเข้าถึงไฟล์แต่ละตัวในไดเรกทอรีที่กำลังถูกวนลูปอยู่ใน os.walk() แต่ละครั้ง\n",
        "\n",
        "================================="
      ],
      "metadata": {
        "id": "yCSnEJhI7WBC"
      }
    },
    {
      "cell_type": "code",
      "source": [
        "train_data = pd.read_csv(\"/content/drive/MyDrive/Colab Notebooks/Data set/train.csv\")\n",
        "train_data.head()"
      ],
      "metadata": {
        "colab": {
          "base_uri": "https://localhost:8080/",
          "height": 548
        },
        "id": "VV0GmBHp8UTc",
        "outputId": "a2fa0491-a61b-468a-bd6c-b77c9c025b4f"
      },
      "execution_count": 6,
      "outputs": [
        {
          "output_type": "execute_result",
          "data": {
            "text/plain": [
              "   PassengerId  Survived  Pclass  \\\n",
              "0            1         0       3   \n",
              "1            2         1       1   \n",
              "2            3         1       3   \n",
              "3            4         1       1   \n",
              "4            5         0       3   \n",
              "\n",
              "                                                Name     Sex   Age  SibSp  \\\n",
              "0                            Braund, Mr. Owen Harris    male  22.0      1   \n",
              "1  Cumings, Mrs. John Bradley (Florence Briggs Th...  female  38.0      1   \n",
              "2                             Heikkinen, Miss. Laina  female  26.0      0   \n",
              "3       Futrelle, Mrs. Jacques Heath (Lily May Peel)  female  35.0      1   \n",
              "4                           Allen, Mr. William Henry    male  35.0      0   \n",
              "\n",
              "   Parch            Ticket     Fare Cabin Embarked  \n",
              "0      0         A/5 21171   7.2500   NaN        S  \n",
              "1      0          PC 17599  71.2833   C85        C  \n",
              "2      0  STON/O2. 3101282   7.9250   NaN        S  \n",
              "3      0            113803  53.1000  C123        S  \n",
              "4      0            373450   8.0500   NaN        S  "
            ],
            "text/html": [
              "\n",
              "  <div id=\"df-883222ff-bb06-4326-8803-d80d8665d6f6\">\n",
              "    <div class=\"colab-df-container\">\n",
              "      <div>\n",
              "<style scoped>\n",
              "    .dataframe tbody tr th:only-of-type {\n",
              "        vertical-align: middle;\n",
              "    }\n",
              "\n",
              "    .dataframe tbody tr th {\n",
              "        vertical-align: top;\n",
              "    }\n",
              "\n",
              "    .dataframe thead th {\n",
              "        text-align: right;\n",
              "    }\n",
              "</style>\n",
              "<table border=\"1\" class=\"dataframe\">\n",
              "  <thead>\n",
              "    <tr style=\"text-align: right;\">\n",
              "      <th></th>\n",
              "      <th>PassengerId</th>\n",
              "      <th>Survived</th>\n",
              "      <th>Pclass</th>\n",
              "      <th>Name</th>\n",
              "      <th>Sex</th>\n",
              "      <th>Age</th>\n",
              "      <th>SibSp</th>\n",
              "      <th>Parch</th>\n",
              "      <th>Ticket</th>\n",
              "      <th>Fare</th>\n",
              "      <th>Cabin</th>\n",
              "      <th>Embarked</th>\n",
              "    </tr>\n",
              "  </thead>\n",
              "  <tbody>\n",
              "    <tr>\n",
              "      <th>0</th>\n",
              "      <td>1</td>\n",
              "      <td>0</td>\n",
              "      <td>3</td>\n",
              "      <td>Braund, Mr. Owen Harris</td>\n",
              "      <td>male</td>\n",
              "      <td>22.0</td>\n",
              "      <td>1</td>\n",
              "      <td>0</td>\n",
              "      <td>A/5 21171</td>\n",
              "      <td>7.2500</td>\n",
              "      <td>NaN</td>\n",
              "      <td>S</td>\n",
              "    </tr>\n",
              "    <tr>\n",
              "      <th>1</th>\n",
              "      <td>2</td>\n",
              "      <td>1</td>\n",
              "      <td>1</td>\n",
              "      <td>Cumings, Mrs. John Bradley (Florence Briggs Th...</td>\n",
              "      <td>female</td>\n",
              "      <td>38.0</td>\n",
              "      <td>1</td>\n",
              "      <td>0</td>\n",
              "      <td>PC 17599</td>\n",
              "      <td>71.2833</td>\n",
              "      <td>C85</td>\n",
              "      <td>C</td>\n",
              "    </tr>\n",
              "    <tr>\n",
              "      <th>2</th>\n",
              "      <td>3</td>\n",
              "      <td>1</td>\n",
              "      <td>3</td>\n",
              "      <td>Heikkinen, Miss. Laina</td>\n",
              "      <td>female</td>\n",
              "      <td>26.0</td>\n",
              "      <td>0</td>\n",
              "      <td>0</td>\n",
              "      <td>STON/O2. 3101282</td>\n",
              "      <td>7.9250</td>\n",
              "      <td>NaN</td>\n",
              "      <td>S</td>\n",
              "    </tr>\n",
              "    <tr>\n",
              "      <th>3</th>\n",
              "      <td>4</td>\n",
              "      <td>1</td>\n",
              "      <td>1</td>\n",
              "      <td>Futrelle, Mrs. Jacques Heath (Lily May Peel)</td>\n",
              "      <td>female</td>\n",
              "      <td>35.0</td>\n",
              "      <td>1</td>\n",
              "      <td>0</td>\n",
              "      <td>113803</td>\n",
              "      <td>53.1000</td>\n",
              "      <td>C123</td>\n",
              "      <td>S</td>\n",
              "    </tr>\n",
              "    <tr>\n",
              "      <th>4</th>\n",
              "      <td>5</td>\n",
              "      <td>0</td>\n",
              "      <td>3</td>\n",
              "      <td>Allen, Mr. William Henry</td>\n",
              "      <td>male</td>\n",
              "      <td>35.0</td>\n",
              "      <td>0</td>\n",
              "      <td>0</td>\n",
              "      <td>373450</td>\n",
              "      <td>8.0500</td>\n",
              "      <td>NaN</td>\n",
              "      <td>S</td>\n",
              "    </tr>\n",
              "  </tbody>\n",
              "</table>\n",
              "</div>\n",
              "      <button class=\"colab-df-convert\" onclick=\"convertToInteractive('df-883222ff-bb06-4326-8803-d80d8665d6f6')\"\n",
              "              title=\"Convert this dataframe to an interactive table.\"\n",
              "              style=\"display:none;\">\n",
              "        \n",
              "  <svg xmlns=\"http://www.w3.org/2000/svg\" height=\"24px\"viewBox=\"0 0 24 24\"\n",
              "       width=\"24px\">\n",
              "    <path d=\"M0 0h24v24H0V0z\" fill=\"none\"/>\n",
              "    <path d=\"M18.56 5.44l.94 2.06.94-2.06 2.06-.94-2.06-.94-.94-2.06-.94 2.06-2.06.94zm-11 1L8.5 8.5l.94-2.06 2.06-.94-2.06-.94L8.5 2.5l-.94 2.06-2.06.94zm10 10l.94 2.06.94-2.06 2.06-.94-2.06-.94-.94-2.06-.94 2.06-2.06.94z\"/><path d=\"M17.41 7.96l-1.37-1.37c-.4-.4-.92-.59-1.43-.59-.52 0-1.04.2-1.43.59L10.3 9.45l-7.72 7.72c-.78.78-.78 2.05 0 2.83L4 21.41c.39.39.9.59 1.41.59.51 0 1.02-.2 1.41-.59l7.78-7.78 2.81-2.81c.8-.78.8-2.07 0-2.86zM5.41 20L4 18.59l7.72-7.72 1.47 1.35L5.41 20z\"/>\n",
              "  </svg>\n",
              "      </button>\n",
              "      \n",
              "  <style>\n",
              "    .colab-df-container {\n",
              "      display:flex;\n",
              "      flex-wrap:wrap;\n",
              "      gap: 12px;\n",
              "    }\n",
              "\n",
              "    .colab-df-convert {\n",
              "      background-color: #E8F0FE;\n",
              "      border: none;\n",
              "      border-radius: 50%;\n",
              "      cursor: pointer;\n",
              "      display: none;\n",
              "      fill: #1967D2;\n",
              "      height: 32px;\n",
              "      padding: 0 0 0 0;\n",
              "      width: 32px;\n",
              "    }\n",
              "\n",
              "    .colab-df-convert:hover {\n",
              "      background-color: #E2EBFA;\n",
              "      box-shadow: 0px 1px 2px rgba(60, 64, 67, 0.3), 0px 1px 3px 1px rgba(60, 64, 67, 0.15);\n",
              "      fill: #174EA6;\n",
              "    }\n",
              "\n",
              "    [theme=dark] .colab-df-convert {\n",
              "      background-color: #3B4455;\n",
              "      fill: #D2E3FC;\n",
              "    }\n",
              "\n",
              "    [theme=dark] .colab-df-convert:hover {\n",
              "      background-color: #434B5C;\n",
              "      box-shadow: 0px 1px 3px 1px rgba(0, 0, 0, 0.15);\n",
              "      filter: drop-shadow(0px 1px 2px rgba(0, 0, 0, 0.3));\n",
              "      fill: #FFFFFF;\n",
              "    }\n",
              "  </style>\n",
              "\n",
              "      <script>\n",
              "        const buttonEl =\n",
              "          document.querySelector('#df-883222ff-bb06-4326-8803-d80d8665d6f6 button.colab-df-convert');\n",
              "        buttonEl.style.display =\n",
              "          google.colab.kernel.accessAllowed ? 'block' : 'none';\n",
              "\n",
              "        async function convertToInteractive(key) {\n",
              "          const element = document.querySelector('#df-883222ff-bb06-4326-8803-d80d8665d6f6');\n",
              "          const dataTable =\n",
              "            await google.colab.kernel.invokeFunction('convertToInteractive',\n",
              "                                                     [key], {});\n",
              "          if (!dataTable) return;\n",
              "\n",
              "          const docLinkHtml = 'Like what you see? Visit the ' +\n",
              "            '<a target=\"_blank\" href=https://colab.research.google.com/notebooks/data_table.ipynb>data table notebook</a>'\n",
              "            + ' to learn more about interactive tables.';\n",
              "          element.innerHTML = '';\n",
              "          dataTable['output_type'] = 'display_data';\n",
              "          await google.colab.output.renderOutput(dataTable, element);\n",
              "          const docLink = document.createElement('div');\n",
              "          docLink.innerHTML = docLinkHtml;\n",
              "          element.appendChild(docLink);\n",
              "        }\n",
              "      </script>\n",
              "    </div>\n",
              "  </div>\n",
              "  "
            ]
          },
          "metadata": {},
          "execution_count": 6
        }
      ]
    },
    {
      "cell_type": "code",
      "source": [
        "test_data = pd.read_csv(\"/content/drive/MyDrive/Colab Notebooks/Data set/test.csv\")\n",
        "test_data.head()"
      ],
      "metadata": {
        "colab": {
          "base_uri": "https://localhost:8080/",
          "height": 320
        },
        "id": "SLRkKFGz9FNz",
        "outputId": "9b136da3-145c-4d19-e538-7f8a93f184ce"
      },
      "execution_count": 7,
      "outputs": [
        {
          "output_type": "execute_result",
          "data": {
            "text/plain": [
              "   PassengerId  Pclass                                          Name     Sex  \\\n",
              "0          892       3                              Kelly, Mr. James    male   \n",
              "1          893       3              Wilkes, Mrs. James (Ellen Needs)  female   \n",
              "2          894       2                     Myles, Mr. Thomas Francis    male   \n",
              "3          895       3                              Wirz, Mr. Albert    male   \n",
              "4          896       3  Hirvonen, Mrs. Alexander (Helga E Lindqvist)  female   \n",
              "\n",
              "    Age  SibSp  Parch   Ticket     Fare Cabin Embarked  \n",
              "0  34.5      0      0   330911   7.8292   NaN        Q  \n",
              "1  47.0      1      0   363272   7.0000   NaN        S  \n",
              "2  62.0      0      0   240276   9.6875   NaN        Q  \n",
              "3  27.0      0      0   315154   8.6625   NaN        S  \n",
              "4  22.0      1      1  3101298  12.2875   NaN        S  "
            ],
            "text/html": [
              "\n",
              "  <div id=\"df-a4c2110d-94cc-41ee-a528-2dbe8e8bf910\">\n",
              "    <div class=\"colab-df-container\">\n",
              "      <div>\n",
              "<style scoped>\n",
              "    .dataframe tbody tr th:only-of-type {\n",
              "        vertical-align: middle;\n",
              "    }\n",
              "\n",
              "    .dataframe tbody tr th {\n",
              "        vertical-align: top;\n",
              "    }\n",
              "\n",
              "    .dataframe thead th {\n",
              "        text-align: right;\n",
              "    }\n",
              "</style>\n",
              "<table border=\"1\" class=\"dataframe\">\n",
              "  <thead>\n",
              "    <tr style=\"text-align: right;\">\n",
              "      <th></th>\n",
              "      <th>PassengerId</th>\n",
              "      <th>Pclass</th>\n",
              "      <th>Name</th>\n",
              "      <th>Sex</th>\n",
              "      <th>Age</th>\n",
              "      <th>SibSp</th>\n",
              "      <th>Parch</th>\n",
              "      <th>Ticket</th>\n",
              "      <th>Fare</th>\n",
              "      <th>Cabin</th>\n",
              "      <th>Embarked</th>\n",
              "    </tr>\n",
              "  </thead>\n",
              "  <tbody>\n",
              "    <tr>\n",
              "      <th>0</th>\n",
              "      <td>892</td>\n",
              "      <td>3</td>\n",
              "      <td>Kelly, Mr. James</td>\n",
              "      <td>male</td>\n",
              "      <td>34.5</td>\n",
              "      <td>0</td>\n",
              "      <td>0</td>\n",
              "      <td>330911</td>\n",
              "      <td>7.8292</td>\n",
              "      <td>NaN</td>\n",
              "      <td>Q</td>\n",
              "    </tr>\n",
              "    <tr>\n",
              "      <th>1</th>\n",
              "      <td>893</td>\n",
              "      <td>3</td>\n",
              "      <td>Wilkes, Mrs. James (Ellen Needs)</td>\n",
              "      <td>female</td>\n",
              "      <td>47.0</td>\n",
              "      <td>1</td>\n",
              "      <td>0</td>\n",
              "      <td>363272</td>\n",
              "      <td>7.0000</td>\n",
              "      <td>NaN</td>\n",
              "      <td>S</td>\n",
              "    </tr>\n",
              "    <tr>\n",
              "      <th>2</th>\n",
              "      <td>894</td>\n",
              "      <td>2</td>\n",
              "      <td>Myles, Mr. Thomas Francis</td>\n",
              "      <td>male</td>\n",
              "      <td>62.0</td>\n",
              "      <td>0</td>\n",
              "      <td>0</td>\n",
              "      <td>240276</td>\n",
              "      <td>9.6875</td>\n",
              "      <td>NaN</td>\n",
              "      <td>Q</td>\n",
              "    </tr>\n",
              "    <tr>\n",
              "      <th>3</th>\n",
              "      <td>895</td>\n",
              "      <td>3</td>\n",
              "      <td>Wirz, Mr. Albert</td>\n",
              "      <td>male</td>\n",
              "      <td>27.0</td>\n",
              "      <td>0</td>\n",
              "      <td>0</td>\n",
              "      <td>315154</td>\n",
              "      <td>8.6625</td>\n",
              "      <td>NaN</td>\n",
              "      <td>S</td>\n",
              "    </tr>\n",
              "    <tr>\n",
              "      <th>4</th>\n",
              "      <td>896</td>\n",
              "      <td>3</td>\n",
              "      <td>Hirvonen, Mrs. Alexander (Helga E Lindqvist)</td>\n",
              "      <td>female</td>\n",
              "      <td>22.0</td>\n",
              "      <td>1</td>\n",
              "      <td>1</td>\n",
              "      <td>3101298</td>\n",
              "      <td>12.2875</td>\n",
              "      <td>NaN</td>\n",
              "      <td>S</td>\n",
              "    </tr>\n",
              "  </tbody>\n",
              "</table>\n",
              "</div>\n",
              "      <button class=\"colab-df-convert\" onclick=\"convertToInteractive('df-a4c2110d-94cc-41ee-a528-2dbe8e8bf910')\"\n",
              "              title=\"Convert this dataframe to an interactive table.\"\n",
              "              style=\"display:none;\">\n",
              "        \n",
              "  <svg xmlns=\"http://www.w3.org/2000/svg\" height=\"24px\"viewBox=\"0 0 24 24\"\n",
              "       width=\"24px\">\n",
              "    <path d=\"M0 0h24v24H0V0z\" fill=\"none\"/>\n",
              "    <path d=\"M18.56 5.44l.94 2.06.94-2.06 2.06-.94-2.06-.94-.94-2.06-.94 2.06-2.06.94zm-11 1L8.5 8.5l.94-2.06 2.06-.94-2.06-.94L8.5 2.5l-.94 2.06-2.06.94zm10 10l.94 2.06.94-2.06 2.06-.94-2.06-.94-.94-2.06-.94 2.06-2.06.94z\"/><path d=\"M17.41 7.96l-1.37-1.37c-.4-.4-.92-.59-1.43-.59-.52 0-1.04.2-1.43.59L10.3 9.45l-7.72 7.72c-.78.78-.78 2.05 0 2.83L4 21.41c.39.39.9.59 1.41.59.51 0 1.02-.2 1.41-.59l7.78-7.78 2.81-2.81c.8-.78.8-2.07 0-2.86zM5.41 20L4 18.59l7.72-7.72 1.47 1.35L5.41 20z\"/>\n",
              "  </svg>\n",
              "      </button>\n",
              "      \n",
              "  <style>\n",
              "    .colab-df-container {\n",
              "      display:flex;\n",
              "      flex-wrap:wrap;\n",
              "      gap: 12px;\n",
              "    }\n",
              "\n",
              "    .colab-df-convert {\n",
              "      background-color: #E8F0FE;\n",
              "      border: none;\n",
              "      border-radius: 50%;\n",
              "      cursor: pointer;\n",
              "      display: none;\n",
              "      fill: #1967D2;\n",
              "      height: 32px;\n",
              "      padding: 0 0 0 0;\n",
              "      width: 32px;\n",
              "    }\n",
              "\n",
              "    .colab-df-convert:hover {\n",
              "      background-color: #E2EBFA;\n",
              "      box-shadow: 0px 1px 2px rgba(60, 64, 67, 0.3), 0px 1px 3px 1px rgba(60, 64, 67, 0.15);\n",
              "      fill: #174EA6;\n",
              "    }\n",
              "\n",
              "    [theme=dark] .colab-df-convert {\n",
              "      background-color: #3B4455;\n",
              "      fill: #D2E3FC;\n",
              "    }\n",
              "\n",
              "    [theme=dark] .colab-df-convert:hover {\n",
              "      background-color: #434B5C;\n",
              "      box-shadow: 0px 1px 3px 1px rgba(0, 0, 0, 0.15);\n",
              "      filter: drop-shadow(0px 1px 2px rgba(0, 0, 0, 0.3));\n",
              "      fill: #FFFFFF;\n",
              "    }\n",
              "  </style>\n",
              "\n",
              "      <script>\n",
              "        const buttonEl =\n",
              "          document.querySelector('#df-a4c2110d-94cc-41ee-a528-2dbe8e8bf910 button.colab-df-convert');\n",
              "        buttonEl.style.display =\n",
              "          google.colab.kernel.accessAllowed ? 'block' : 'none';\n",
              "\n",
              "        async function convertToInteractive(key) {\n",
              "          const element = document.querySelector('#df-a4c2110d-94cc-41ee-a528-2dbe8e8bf910');\n",
              "          const dataTable =\n",
              "            await google.colab.kernel.invokeFunction('convertToInteractive',\n",
              "                                                     [key], {});\n",
              "          if (!dataTable) return;\n",
              "\n",
              "          const docLinkHtml = 'Like what you see? Visit the ' +\n",
              "            '<a target=\"_blank\" href=https://colab.research.google.com/notebooks/data_table.ipynb>data table notebook</a>'\n",
              "            + ' to learn more about interactive tables.';\n",
              "          element.innerHTML = '';\n",
              "          dataTable['output_type'] = 'display_data';\n",
              "          await google.colab.output.renderOutput(dataTable, element);\n",
              "          const docLink = document.createElement('div');\n",
              "          docLink.innerHTML = docLinkHtml;\n",
              "          element.appendChild(docLink);\n",
              "        }\n",
              "      </script>\n",
              "    </div>\n",
              "  </div>\n",
              "  "
            ]
          },
          "metadata": {},
          "execution_count": 7
        }
      ]
    },
    {
      "cell_type": "code",
      "source": [
        "women = train_data.loc[train_data.Sex == 'female'][\"Survived\"]\n",
        "rate_women = sum(women)/len(women) #len จะนับค่ารวมของ female ใน column sex\n",
        "#sum จะเป็นการนำคอลัม survivied ทั้งหมด\n",
        "\n",
        "print(\"% of women who survived:\", rate_women)"
      ],
      "metadata": {
        "colab": {
          "base_uri": "https://localhost:8080/"
        },
        "id": "D-rqkpOU9F0R",
        "outputId": "f922c704-d7ae-4ef2-8191-53de7a145fcd"
      },
      "execution_count": 8,
      "outputs": [
        {
          "output_type": "stream",
          "name": "stdout",
          "text": [
            "% of women who survived: 0.7420382165605095\n"
          ]
        }
      ]
    },
    {
      "cell_type": "markdown",
      "source": [
        "sum() ใช้สำหรับหาผลรวมของตัวเลขใน Iterable object เช่น list, tuple, หรือ set และจะคืนค่าผลรวมกลับมา\n",
        "len() ใช้สำหรับหาความยาวของ Iterable object เช่น list, tuple, หรือ set และจะคืนค่าจำนวนสมาชิกใน Iterable object นั้นๆ กลับมา\n",
        "\n",
        "======================================"
      ],
      "metadata": {
        "id": "omYrLuobDS8Y"
      }
    },
    {
      "cell_type": "markdown",
      "source": [
        "โค้ดดังกล่าวมีไว้สำหรับเข้าถึงข้อมูลใน DataFrame ที่ชื่อ train_data ซึ่งมี column ชื่อว่า Sex และ Survived โดยเงื่อนไขของการเข้าถึงข้อมูลคือเลือกเฉพาะแถวที่ column Sex เท่ากับคำว่า female และเลือกเฉพาะ column Survived เท่านั้น ดังนั้นผลลัพธ์ที่ได้จะเป็น Series ของข้อมูลใน column Survived ที่เป็นข้อมูลของผู้หญิง (female) ใน DataFrame train_data\n",
        "\n",
        "===================================="
      ],
      "metadata": {
        "id": "FrBW7K-jCVfa"
      }
    },
    {
      "cell_type": "markdown",
      "source": [
        "len() เป็นฟังก์ชันในภาษา Python ที่ใช้สำหรับนับจำนวนสมาชิกใน iterable object เช่น list, tuple, string, set หรือ dictionary และคืนค่าจำนวนสมาชิกนั้น ๆ กลับมา เช่น\n",
        "\n",
        "python\n",
        "Copy code\n",
        "string = \"Hello, World!\"\n",
        "length = len(string)\n",
        "print(length) # 13\n",
        "\n",
        "=================================="
      ],
      "metadata": {
        "id": "muMhvqqr_8Xt"
      }
    },
    {
      "cell_type": "markdown",
      "source": [
        "sum() เป็นฟังก์ชันในภาษา Python ที่ใช้สำหรับคำนวณผลรวมของสมาชิกใน iterable object เช่น list, tuple หรือ set โดยฟังก์ชันนี้จะรับ iterable object เป็น parameter เดียวและคืนค่าผลรวมของสมาชิกทั้งหมดกลับมา ตัวอย่างเช่น\n",
        "\n",
        "python\n",
        "Copy code\n",
        "numbers = [1, 2, 3, 4, 5]\n",
        "result = sum(numbers)\n",
        "print(result) # 15\n",
        "\n",
        "============================"
      ],
      "metadata": {
        "id": "dvJfrNYrAlcc"
      }
    },
    {
      "cell_type": "code",
      "source": [
        "men = train_data.loc[train_data.Sex == 'male'][\"Survived\"]\n",
        "rate_men = sum(men)/len(men)\n",
        "\n",
        "print(\"% of men who survived:\", rate_men)"
      ],
      "metadata": {
        "colab": {
          "base_uri": "https://localhost:8080/"
        },
        "id": "GDYfbF7U_Ql_",
        "outputId": "f8d8208a-d2c4-4352-e4da-ba1be4b5b36e"
      },
      "execution_count": 9,
      "outputs": [
        {
          "output_type": "stream",
          "name": "stdout",
          "text": [
            "% of men who survived: 0.18890814558058924\n"
          ]
        }
      ]
    },
    {
      "cell_type": "markdown",
      "source": [
        "โค้ดดังกล่าวเป็นการ import class RandomForestClassifier จากโมดูล ensemble ในไลบรารี scikit-learn (หรือ sklearn) ของภาษา Python\n",
        "\n",
        "scikit-learn (หรือ sklearn สำหรับสั้น) เป็นไลบรารี Python ที่เป็นที่นิยมสำหรับการเรียนรู้เครื่องจักร (Machine Learning) โดยมีเครื่องมือสำหรับงานต่างๆ เช่น การจัดกลุ่ม (clustering) การจำแนก (classification) การลดมิติ (dimensionality reduction) และอื่นๆ โมดูล ensemble ใน sklearn เป็นโมดูลที่ให้เครื่องมือสำหรับการสร้างโมเดลจำนวนมากที่ใช้การรวมผลการเรียนรู้จากโมเดลหลายๆ ตัวเพื่อปรับปรุงประสิทธิภาพการทำนาย\n",
        "\n",
        "RandomForestClassifier เป็นคลาสใน sklearn ที่ใช้สร้างโมเดล Random Forest Classifier ซึ่งเป็นวิธีการเรียนรู้เครื่องจักรแบบ Ensemble โดยที่มันจะสร้าง Decision Tree หลายๆ ต้นในขณะเทรนโมเดล และทำการทำนายผลลัพธ์จากการหลายๆ ต้นนั้นแบบ Voting (ในกรณีการจัดกลุ่มหรือ Classification) หรือแบบเฉลี่ย (ในกรณี Regression) เพื่อปรับปรุงประสิทธิภาพและลดความเสี่ยงของโมเดล Overfitting โดย Random Forest ยังมีการนำเอาการสุ่มตัวอย่างซึ่งใช้ในการเรียนรู้เข้ามาเพิ่มความสุ่ม (randomness) ที่ช่วยลดความเสี่ยงจาก Overfitting และช่วยปรับปรุงประสิทธิภาพการทำนายในข้อมูลใหม่ๆ ที่มีลักษณะคล้ายๆ กับข้อมูลในชุดข้อม\n",
        "\n",
        "===========================================\n"
      ],
      "metadata": {
        "id": "xgLnrfz2f-pV"
      }
    },
    {
      "cell_type": "code",
      "source": [
        "import matplotlib.pyplot as plt\n",
        "import matplotlib.image as mpimg\n",
        "\n",
        "# กำหนด path ของรูปภาพ\n",
        "img_path = '/content/drive/MyDrive/Colab Notebooks/Data set/FireShot Capture 213 - Titanic Tutorial - Kaggle - www.kaggle.com.png'\n",
        "\n",
        "# อ่านรูปภาพจาก path ที่กำหนด\n",
        "img = mpimg.imread(img_path)\n",
        "\n",
        "# แสดงรูปภาพด้วย plt.imshow\n",
        "plt.imshow(img)\n",
        "plt.show()\n"
      ],
      "metadata": {
        "colab": {
          "base_uri": "https://localhost:8080/",
          "height": 317
        },
        "id": "g2P3Myt4sPSX",
        "outputId": "b399cf2c-baac-4e38-efb2-fec838bb38f4"
      },
      "execution_count": 15,
      "outputs": [
        {
          "output_type": "display_data",
          "data": {
            "text/plain": [
              "<Figure size 640x480 with 1 Axes>"
            ],
            "image/png": "[encoded data removed]"
          },
          "metadata": {}
        }
      ]
    },
    {
      "cell_type": "markdown",
      "source": [
        "ในอัลกอริทึม Random Forest จะมีการสุ่ม feature และข้อมูลที่ใช้ในการสร้าง Decision Tree ด้วยขนาดตัวอย่าง (bootstrap samples) และค่า split point ซึ่งจะเป็นการสุ่มเพื่อลด variance และการ overfitting ของโมเดล Decision Tree ที่เกิดจากการเห็นแบบ ๆ ของข้อมูล\n",
        "\n",
        "เมื่อสร้าง Decision Tree แต่ละต้นขึ้นมาแล้ว โมเดล Random Forest จะนำ Decision Tree ทั้งหมดมารวมกันเพื่อให้ได้ผลลัพธ์โดยการ voting หรือเลือกผลลัพธ์ที่แตกต่างกันมาเป็นผลลัพธ์สุดท้าย ดังนั้น Random Forest นั้นไม่ใช่การ random ทั้งหมด แต่เป็นการ random feature และข้อมูลเฉพาะบางส่วนเท่านั้น\n",
        "\n",
        "================================="
      ],
      "metadata": {
        "id": "kY4Z031wujao"
      }
    },
    {
      "cell_type": "code",
      "source": [
        "from sklearn.ensemble import RandomForestClassifier\n",
        "\n",
        "y = train_data[\"Survived\"]\n",
        "\n",
        "features = [\"Pclass\", \"Sex\", \"SibSp\", \"Parch\"]\n",
        "X = pd.get_dummies(train_data[features])\n",
        "X_test = pd.get_dummies(test_data[features])\n",
        "\n",
        "model = RandomForestClassifier(n_estimators=100, max_depth=5, random_state=1)\n",
        "model.fit(X, y)\n",
        "predictions = model.predict(X_test)\n",
        "\n",
        "output = pd.DataFrame({'PassengerId': test_data.PassengerId, 'Survived': predictions})\n",
        "output.to_csv('submission.csv', index=False)\n",
        "print(\"Your submission was successfully saved!\")"
      ],
      "metadata": {
        "colab": {
          "base_uri": "https://localhost:8080/"
        },
        "id": "paK9PI9QgCel",
        "outputId": "599080cc-24f0-4b14-df5b-72c0b4a4636b"
      },
      "execution_count": 10,
      "outputs": [
        {
          "output_type": "stream",
          "name": "stdout",
          "text": [
            "Your submission was successfully saved!\n"
          ]
        }
      ]
    },
    {
      "cell_type": "markdown",
      "source": [
        "โค้ด model = RandomForestClassifier(n_estimators=100, max_depth=5, random_state=1) ใช้สร้างโมเดล RandomForestClassifier โดยกำหนด hyperparameters ดังนี้\n",
        "\n",
        "n_estimators: จำนวนของ decision trees ใน ensemble model นี้ (default=100)\n",
        "max_depth: ความลึกของ decision trees ที่ใช้ใน ensemble model นี้ (default=None)\n",
        "random_state: ค่าเริ่มต้นสุ่มเลขในการสร้าง decision trees ใน ensemble model นี้ (default=None)\n",
        "RandomForestClassifier คืออัลกอริทึมในกลุ่ม Ensemble Learning ซึ่งเป็นการใช้หลายๆโมเดลทำงานร่วมกันเพื่อประมวลผลและทำนายผลดีขึ้น โดยการสร้าง decision trees จำนวนมากแล้วนำมา voting หรือเลือกผลลัพธ์ที่แตกต่างกันมาเป็นผลลัพธ์ที่สุดของโมเดล ensemble นี้\n",
        "\n",
        "การกำหนด hyperparameters ใน RandomForestClassifier จะช่วยกำหนดความสำคัญของ decision trees ที่ใช้ในการ voting หรือสร้างผลลัพธ์สุดท้าย ซึ่งหากไม่กำหนด hyperparameters อย่างชัดเจนอาจทำให้โมเดลไม่มีประสิทธิภาพหรือให้ผลลัพธ์ที่ไม่แม่นยำ\n",
        "\n",
        "======================="
      ],
      "metadata": {
        "id": "B73H5x-EqhwC"
      }
    },
    {
      "cell_type": "code",
      "source": [
        "submission = pd.read_csv(\"/content/submission.csv\")\n",
        "print(submission)\n"
      ],
      "metadata": {
        "colab": {
          "base_uri": "https://localhost:8080/"
        },
        "id": "zbzJvQHxiq9f",
        "outputId": "970149af-070c-4f76-936f-b1d785decafc"
      },
      "execution_count": 14,
      "outputs": [
        {
          "output_type": "stream",
          "name": "stdout",
          "text": [
            "     PassengerId  Survived\n",
            "0            892         0\n",
            "1            893         1\n",
            "2            894         0\n",
            "3            895         0\n",
            "4            896         1\n",
            "..           ...       ...\n",
            "413         1305         0\n",
            "414         1306         1\n",
            "415         1307         0\n",
            "416         1308         0\n",
            "417         1309         0\n",
            "\n",
            "[418 rows x 2 columns]\n"
          ]
        }
      ]
    },
    {
      "cell_type": "markdown",
      "source": [
        "โค้ด X = pd.get_dummies(train_data[features]) ใช้สร้างตัวแปร X จากข้อมูลในตัวแปร train_data โดยใช้ฟังก์ชัน get_dummies() ของ Pandas เพื่อแปลงข้อมูลที่เป็นข้อความหรือ categorical data ให้เป็นตัวเลขแบบ one-hot encoding ซึ่งเป็นการแปลงค่าของแต่ละคอลัมน์ของข้อมูลให้เป็น binary (0 หรือ 1) โดยเลือกใช้คอลัมน์แต่ละคอลัมน์ของข้อมูลในการแทนค่า และทำให้ข้อมูลที่เป็นข้อความเหล่านั้นเป็นตัวเลขที่สามารถนำมาใช้ในการสร้างโมเดลการเรียนรู้เชิงเข้ามาต่อได้\n",
        "\n",
        "การแปลงข้อมูลแบบ one-hot encoding เป็นการแปลงข้อมูลจาก categorical data เช่นเพศ (male/female), สี (red/green/blue) หรือประเภท (category A/category B/category C) ที่เป็นข้อความหรือตัวอักษรให้กลายเป็นตัวเลข binary (0 หรือ 1) ตามความเหมาะสม เพื่อให้โมเดลสามารถเรียนรู้และทำนายผลได้ง่ายขึ้น\n",
        "\n",
        "ในตัวอย่างที่ให้มา train_data เป็นข้อมูลที่ใช้ในการเทรนโมเดล และ features เป็นลิสต์ของคอลัมน์ที่เลือกมาใช้ในการสร้างโมเดล เมื่อทำการเรียกใช้ pd.get_dummies(train_data[features]) ก็จะสร้างตัวแปร X ที่เก็บข้อมูลที่แปลงเป็น one-hot encoding แล้วสามารถนำไปใช้ในการเรียนรู้และทำนายผลของโมเดลได้\n",
        "\n",
        "==============================================="
      ],
      "metadata": {
        "id": "wlvHJyzZkRlK"
      }
    },
    {
      "cell_type": "markdown",
      "source": [
        " "
      ],
      "metadata": {
        "id": "BvPuFwjbkVkv"
      }
    }
  ]
}