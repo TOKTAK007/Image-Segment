{
  "nbformat": 4,
  "nbformat_minor": 0,
  "metadata": {
    "colab": {
      "provenance": [],
      "authorship_tag": "ABX9TyMQCHGWV/lLRMnbkDxpbUPL",
      "include_colab_link": true
    },
    "kernelspec": {
      "name": "python3",
      "display_name": "Python 3"
    },
    "language_info": {
      "name": "python"
    }
  },
  "cells": [
    {
      "cell_type": "markdown",
      "metadata": {
        "id": "view-in-github",
        "colab_type": "text"
      },
      "source": [
        "<a href=\"https://colab.research.google.com/github/TOKTAK007/Image-Segment/blob/main/Titanic_Test.ipynb\" target=\"_parent\"><img src=\"https://colab.research.google.com/assets/colab-badge.svg\" alt=\"Open In Colab\"/></a>"
      ]
    },
    {
      "cell_type": "code",
      "execution_count": null,
      "metadata": {
        "id": "u5EZYfhu2vHv"
      },
      "outputs": [],
      "source": [
        "import numpy as np # linear algebra\n",
        "import pandas as pd # data processing, CSV file I/O (e.g. pd.read_csv)\n"
      ]
    },
    {
      "cell_type": "code",
      "source": [
        "from google.colab import drive\n",
        "drive.mount('/content/drive')"
      ],
      "metadata": {
        "id": "ppKGs48b3e3i",
        "colab": {
          "base_uri": "https://localhost:8080/"
        },
        "outputId": "9e5538d3-c153-4cbc-c3c9-4f3bab647db6"
      },
      "execution_count": 2,
      "outputs": [
        {
          "output_type": "stream",
          "name": "stdout",
          "text": [
            "Mounted at /content/drive\n"
          ]
        }
      ]
    },
    {
      "cell_type": "code",
      "source": [
        "import os\n",
        "for dirname, _, filenames in os.walk('/content/drive/MyDrive/Colab Notebooks/Data set/'):\n",
        "    for filename in filenames:\n",
        "        print(os.path.join(dirname, filename))\n"
      ],
      "metadata": {
        "id": "J_juW-QT27Og",
        "colab": {
          "base_uri": "https://localhost:8080/"
        },
        "outputId": "f047ab86-6bb0-42b2-d15a-7641e488ca98"
      },
      "execution_count": 5,
      "outputs": [
        {
          "output_type": "stream",
          "name": "stdout",
          "text": [
            "/content/drive/MyDrive/Colab Notebooks/Data set/train.csv\n",
            "/content/drive/MyDrive/Colab Notebooks/Data set/test.csv\n",
            "/content/drive/MyDrive/Colab Notebooks/Data set/gender_submission.csv\n"
          ]
        }
      ]
    },
    {
      "cell_type": "markdown",
      "source": [
        "\"OS\" ย่อมาจาก \"Operating System\" หรือภาษาไทยเรียกว่า \"ระบบปฏิบัติการ\" ซึ่งเป็นซอฟต์แวร์ที่ควบคุมการทำงานของคอมพิวเตอร์ และให้บริการต่างๆ ให้กับแอปพลิเคชันและผู้ใช้งาน เช่น การจัดการหน่วยความจำ การเข้าถึงไฟล์ การเชื่อมต่อกับอินเตอร์เน็ต การจัดการฮาร์ดแวร์ เป็นต้น ระบบปฏิบัติการที่ได้รับความนิยมอย่างแพร่หลายปัจจุบันได้แก่ Windows, MacOS, และ Linux.\n",
        "\n",
        "====================================================\n",
        "\n",
        "\n"
      ],
      "metadata": {
        "id": "nO8AGAgu3Wtm"
      }
    },
    {
      "cell_type": "markdown",
      "source": [
        "ใน Python, os.walk() เป็นฟังก์ชั่นที่ใช้สำหรับการวนลูปของไดเรกทอรี (directory) และไฟล์ภายใต้ไดเรกทอรีนั้นๆ โดยมีพารามิเตอร์หนึ่งเป็น path หรือที่อยู่ของไดเรกทอรีเริ่มต้นที่ต้องการทำการวนลูป ในตัวอย่างของโค้ดที่ให้มา จะใช้ os.walk() เพื่อวนลูปในไดเรกทอรี /kaggle/input โดยจะมีการคืนค่าเป็น tuple ที่ประกอบด้วย 3 ตัวแปรคือ dirname ซึ่งจะเป็นชื่อของไดเรกทอรีที่ถูกวนลูป ตัวแปร _ ที่ไม่ได้ใช้งาน (เนื่องจากไม่ได้ใช้และใช้ underscore แทน) และ filenames ซึ่งจะเป็น list ของชื่อไฟล์ทั้งหมดในไดเรกทอรีนั้นๆ\n",
        "\n",
        "===================================="
      ],
      "metadata": {
        "id": "rNIAczRB6HYa"
      }
    },
    {
      "cell_type": "markdown",
      "source": [
        "dirname ใน Python เป็นตัวแปรที่ใช้เก็บชื่อไดเรกทอรี (directory) ที่กำลังถูกวนลูปอยู่ใน os.walk() ซึ่งจะมีค่าเป็นสตริง (string) ที่เก็บที่อยู่ของไดเรกทอรี โดยตัวแปรนี้จะถูกส่งเข้าไปเป็น parameter ในฟังก์ชั่น os.path.join() เพื่อรวมกับชื่อไฟล์ (filename) เพื่อให้ได้ path เต็มของไฟล์นั้นๆ ในการเข้าถึงไฟล์แต่ละตัวในไดเรกทอรีที่กำลังถูกวนลูปอยู่ใน os.walk() แต่ละครั้ง\n",
        "\n",
        "================================="
      ],
      "metadata": {
        "id": "yCSnEJhI7WBC"
      }
    },
    {
      "cell_type": "code",
      "source": [
        "train_data = pd.read_csv(\"/kaggle/input/titanic/train.csv\")\n",
        "train_data.head()"
      ],
      "metadata": {
        "id": "VV0GmBHp8UTc"
      },
      "execution_count": null,
      "outputs": []
    }
  ]
}